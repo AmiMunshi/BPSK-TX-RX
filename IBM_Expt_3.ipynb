{
  "nbformat": 4,
  "nbformat_minor": 0,
  "metadata": {
    "colab": {
      "name": "IBM Expt 3.ipynb",
      "provenance": [],
      "include_colab_link": true
    },
    "kernelspec": {
      "name": "python3",
      "display_name": "Python 3"
    }
  },
  "cells": [
    {
      "cell_type": "markdown",
      "metadata": {
        "id": "view-in-github",
        "colab_type": "text"
      },
      "source": [
        "<a href=\"https://colab.research.google.com/github/AmiMunshi/BPSK-TX-RX/blob/master/IBM_Expt_3.ipynb\" target=\"_parent\"><img src=\"https://colab.research.google.com/assets/colab-badge.svg\" alt=\"Open In Colab\"/></a>"
      ]
    },
    {
      "cell_type": "code",
      "metadata": {
        "id": "MJS9X_M4yV2c",
        "colab": {
          "base_uri": "https://localhost:8080/",
          "height": 212
        },
        "outputId": "63fe130e-af81-4a9a-f2c5-311b090570f4"
      },
      "source": [
        " # To print second max and second min number in the list using List sort()\n",
        "#A= [int(N) for N in input().split()]\n",
        "A= input(\"Enter the numbers:\")\n",
        "#print(A)\n",
        "A=list(A)\n",
        "#print(A)\n",
        "B=[]\n",
        "for i in range(len(A)):\n",
        "    temp= int(A[i])\n",
        "    #print(temp)\n",
        "    B.append(temp)\n",
        "#print(B)\n",
        "B.sort()\n",
        "print(B[-2], B[1])\n"
      ],
      "execution_count": null,
      "outputs": [
        {
          "output_type": "stream",
          "text": [
            "23452\n"
          ],
          "name": "stdout"
        },
        {
          "output_type": "error",
          "ename": "IndexError",
          "evalue": "ignored",
          "traceback": [
            "\u001b[0;31m---------------------------------------------------------------------------\u001b[0m",
            "\u001b[0;31mIndexError\u001b[0m                                Traceback (most recent call last)",
            "\u001b[0;32m<ipython-input-31-2ec5f5c13fe3>\u001b[0m in \u001b[0;36m<module>\u001b[0;34m()\u001b[0m\n\u001b[1;32m     12\u001b[0m \u001b[0;31m#print(B)\"\"\"\u001b[0m\u001b[0;34m\u001b[0m\u001b[0;34m\u001b[0m\u001b[0;34m\u001b[0m\u001b[0m\n\u001b[1;32m     13\u001b[0m \u001b[0mA\u001b[0m\u001b[0;34m.\u001b[0m\u001b[0msort\u001b[0m\u001b[0;34m(\u001b[0m\u001b[0;34m)\u001b[0m\u001b[0;34m\u001b[0m\u001b[0;34m\u001b[0m\u001b[0m\n\u001b[0;32m---> 14\u001b[0;31m \u001b[0mprint\u001b[0m\u001b[0;34m(\u001b[0m\u001b[0mA\u001b[0m\u001b[0;34m[\u001b[0m\u001b[0;34m-\u001b[0m\u001b[0;36m2\u001b[0m\u001b[0;34m]\u001b[0m\u001b[0;34m,\u001b[0m \u001b[0mA\u001b[0m\u001b[0;34m[\u001b[0m\u001b[0;36m1\u001b[0m\u001b[0;34m]\u001b[0m\u001b[0;34m)\u001b[0m\u001b[0;34m\u001b[0m\u001b[0;34m\u001b[0m\u001b[0m\n\u001b[0m",
            "\u001b[0;31mIndexError\u001b[0m: list index out of range"
          ]
        }
      ]
    },
    {
      "cell_type": "code",
      "metadata": {
        "id": "w6AmrerjCo0f",
        "colab": {
          "base_uri": "https://localhost:8080/",
          "height": 34
        },
        "outputId": "1294b656-18d6-4ffe-fe6b-a1cca21b6247"
      },
      "source": [
        "\n"
      ],
      "execution_count": null,
      "outputs": [
        {
          "output_type": "stream",
          "text": [
            "4 3\n"
          ],
          "name": "stdout"
        }
      ]
    },
    {
      "cell_type": "code",
      "metadata": {
        "id": "KjWgOmZj_RWA",
        "colab": {
          "base_uri": "https://localhost:8080/",
          "height": 34
        },
        "outputId": "c0492b94-6b02-487e-9247-24e94e788864"
      },
      "source": [
        "type(int(A[2]))"
      ],
      "execution_count": null,
      "outputs": [
        {
          "output_type": "execute_result",
          "data": {
            "text/plain": [
              "int"
            ]
          },
          "metadata": {
            "tags": []
          },
          "execution_count": 15
        }
      ]
    },
    {
      "cell_type": "code",
      "metadata": {
        "id": "H8gfDtD51i6i"
      },
      "source": [
        "# print the numbers which are not multiple of 5 in the given list using list append() \n",
        "A= [int(N) for N in input().split()]\n",
        "B=[]\n",
        "for i in range(len(A)):\n",
        "    if A[i]%5 !=0:\n",
        "        B.append(A[i])\n",
        "print(*B, end='')"
      ],
      "execution_count": null,
      "outputs": []
    },
    {
      "cell_type": "code",
      "metadata": {
        "id": "2EQHrawW6Sh7",
        "colab": {
          "base_uri": "https://localhost:8080/"
        },
        "outputId": "d7b15402-2064-40b5-da82-8005e1fbb47b"
      },
      "source": [
        "#For a given number A which contains only digits 0's and 1's, if it is possible to make all digits same by flipping only one digit, print YES, else print NO\n",
        "A= input()\n",
        "n=len(A)\n",
        "ones= A.count('1')\n",
        "zeros= A.count('0')\n",
        "if ones==n-1 or zeros==n-1:\n",
        "    print(\"YES\",end=\"\")\n",
        "else:\n",
        "    print(\"NO\",end=\"\")"
      ],
      "execution_count": null,
      "outputs": [
        {
          "output_type": "stream",
          "text": [
            "01010101\n",
            "NO"
          ],
          "name": "stdout"
        }
      ]
    },
    {
      "cell_type": "code",
      "metadata": {
        "id": "MhdERuAP6eDm"
      },
      "source": [
        "#For a given list A, with N distinct integers, ascending order without using sort()\n",
        "\n"
      ],
      "execution_count": null,
      "outputs": []
    },
    {
      "cell_type": "code",
      "metadata": {
        "id": "54sz-bRCUlwj",
        "colab": {
          "base_uri": "https://localhost:8080/",
          "height": 50
        },
        "outputId": "4d96605d-1a07-4a17-ac04-1160dfdad5e6"
      },
      "source": [
        "# Sorting a word string using list sort()\n",
        "\n",
        "string1= input(\"Enter your string: \")\n",
        "string1= string1.lower()\n",
        "list1= string1.split()\n",
        "list1.sort()\n",
        "print(list1)\n"
      ],
      "execution_count": null,
      "outputs": [
        {
          "output_type": "stream",
          "text": [
            "Enter your string: Good morning all we are learning Python\n",
            "['all', 'are', 'good', 'learning', 'morning', 'python', 'we']\n"
          ],
          "name": "stdout"
        }
      ]
    },
    {
      "cell_type": "code",
      "metadata": {
        "id": "f-y-zrlRU3kV",
        "colab": {
          "base_uri": "https://localhost:8080/",
          "height": 50
        },
        "outputId": "f281ef99-8c17-4fd2-8571-e14c55e7c8a8"
      },
      "source": [
        "# Sorting word list in alphabetical order without inbuilt function\n",
        "\n",
        "string1= input(\"Enter your string: \")\n",
        "string1= string1.lower()\n",
        "string1= string1 +\" \"\n",
        "A= string1.split()\n",
        "\n",
        "length= len(A)\n",
        "\n",
        "for i in range(length):\n",
        "    for j in range(length-i-1):\n",
        "        \n",
        "          if A[j+1] < A[j]:\n",
        "              temp= A[j]\n",
        "              A[j]= A[j+1]\n",
        "              A[j+1]=temp\n",
        "                \n",
        "        \n",
        "print(A)\n"
      ],
      "execution_count": null,
      "outputs": [
        {
          "output_type": "stream",
          "text": [
            "Enter your string: 1011\n",
            "['1011']\n"
          ],
          "name": "stdout"
        }
      ]
    },
    {
      "cell_type": "code",
      "metadata": {
        "id": "rNPaOM-LU563"
      },
      "source": [
        ""
      ],
      "execution_count": null,
      "outputs": []
    }
  ]
}