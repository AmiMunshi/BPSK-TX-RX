{
  "nbformat": 4,
  "nbformat_minor": 0,
  "metadata": {
    "colab": {
      "name": "RouletteWheelSelection.ipynb",
      "provenance": [],
      "authorship_tag": "ABX9TyPwCr1KFLl9L13sxJ3o9e+V",
      "include_colab_link": true
    },
    "kernelspec": {
      "name": "python3",
      "display_name": "Python 3"
    },
    "language_info": {
      "name": "python"
    }
  },
  "cells": [
    {
      "cell_type": "markdown",
      "metadata": {
        "id": "view-in-github",
        "colab_type": "text"
      },
      "source": [
        "<a href=\"https://colab.research.google.com/github/AmiMunshi/BPSK-TX-RX/blob/master/RouletteWheelSelection.ipynb\" target=\"_parent\"><img src=\"https://colab.research.google.com/assets/colab-badge.svg\" alt=\"Open In Colab\"/></a>"
      ]
    },
    {
      "cell_type": "code",
      "metadata": {
        "id": "IsIhlpelDowl"
      },
      "source": [
        "import numpy as np\n",
        "import pandas as pd\n",
        "import matplotlib.pyplot as plt\n"
      ],
      "execution_count": null,
      "outputs": []
    },
    {
      "cell_type": "code",
      "metadata": {
        "colab": {
          "base_uri": "https://localhost:8080/"
        },
        "id": "yh6WpF0hC8mm",
        "outputId": "b8d78a57-40de-4fd3-a531-da4fb03bdd13"
      },
      "source": [
        "# Enter the chromosome name/number and the corresponding fitness value\n",
        "\n",
        "chromosome= [name for name in input().split()]\n",
        "fitness= [float(f) for f in input().split() ]"
      ],
      "execution_count": null,
      "outputs": [
        {
          "name": "stdout",
          "output_type": "stream",
          "text": [
            "A B C D E\n",
            "12 20 25 10 33\n"
          ]
        }
      ]
    },
    {
      "cell_type": "code",
      "metadata": {
        "id": "tQ7mU7MbDdE7"
      },
      "source": [
        "#Convert both the lists to ndarray\n",
        "chromosome= np.array(chromosome)\n",
        "fitness= np.array(fitness)"
      ],
      "execution_count": null,
      "outputs": []
    },
    {
      "cell_type": "code",
      "metadata": {
        "colab": {
          "base_uri": "https://localhost:8080/"
        },
        "id": "qbuwnIGSD-Nj",
        "outputId": "319ca637-d71f-406e-e801-56e68922fe7e"
      },
      "source": [
        "#Find the sum of fitness values, pdf, cdf\n",
        "\n",
        "summation = np.sum(fitness) #Sum of all the fitness values\n",
        "pdf= fitness/summation #pdf of all the fitness values\n",
        "cdf= np.zeros(len(fitness))\n",
        "cdf[0]= pdf[0]\n",
        "for i in range(1, len(fitness)):\n",
        "  cdf[i]=cdf[i-1]+pdf[i]\n",
        "\n",
        "print(pdf)\n",
        "print(cdf)"
      ],
      "execution_count": null,
      "outputs": [
        {
          "output_type": "stream",
          "name": "stdout",
          "text": [
            "[0.12 0.2  0.25 0.1  0.33]\n",
            "[0.12 0.32 0.57 0.67 1.  ]\n"
          ]
        }
      ]
    },
    {
      "cell_type": "code",
      "metadata": {
        "id": "tPqBcxPEFgZP"
      },
      "source": [
        "df= pd.DataFrame(data= [chromosome, fitness, pdf, cdf]) #make a data frame from individual numpy arrays"
      ],
      "execution_count": null,
      "outputs": []
    },
    {
      "cell_type": "code",
      "metadata": {
        "colab": {
          "base_uri": "https://localhost:8080/"
        },
        "id": "L2eLTkqFGVXE",
        "outputId": "94008a34-17c8-4ce8-95a9-a7f0cc55d6b9"
      },
      "source": [
        "print(df)"
      ],
      "execution_count": null,
      "outputs": [
        {
          "output_type": "stream",
          "name": "stdout",
          "text": [
            "      0     1     2    3    4\n",
            "0     A     B     C    D    E\n",
            "1    45    12    13   20   10\n",
            "2  0.45  0.12  0.13  0.2  0.1\n",
            "3  0.45  0.57   0.7  0.9    1\n"
          ]
        }
      ]
    },
    {
      "cell_type": "code",
      "metadata": {
        "id": "uhKCaFZtGWzJ"
      },
      "source": [
        "#Taking transpose of the data frame and giving column names\n",
        "df=df.transpose() \n",
        "df.columns=[\"Chromosome\", \"Fitness\", \"PDF\", \"CDF\"]\n"
      ],
      "execution_count": null,
      "outputs": []
    },
    {
      "cell_type": "code",
      "metadata": {
        "colab": {
          "base_uri": "https://localhost:8080/",
          "height": 206
        },
        "id": "61kCT2XrG-NW",
        "outputId": "1a7bfe9e-ae3b-4522-d215-4330d921d658"
      },
      "source": [
        "df.head()"
      ],
      "execution_count": null,
      "outputs": [
        {
          "output_type": "execute_result",
          "data": {
            "text/html": [
              "<div>\n",
              "<style scoped>\n",
              "    .dataframe tbody tr th:only-of-type {\n",
              "        vertical-align: middle;\n",
              "    }\n",
              "\n",
              "    .dataframe tbody tr th {\n",
              "        vertical-align: top;\n",
              "    }\n",
              "\n",
              "    .dataframe thead th {\n",
              "        text-align: right;\n",
              "    }\n",
              "</style>\n",
              "<table border=\"1\" class=\"dataframe\">\n",
              "  <thead>\n",
              "    <tr style=\"text-align: right;\">\n",
              "      <th></th>\n",
              "      <th>Chromosome</th>\n",
              "      <th>Fitness</th>\n",
              "      <th>PDF</th>\n",
              "      <th>CDF</th>\n",
              "    </tr>\n",
              "  </thead>\n",
              "  <tbody>\n",
              "    <tr>\n",
              "      <th>0</th>\n",
              "      <td>A</td>\n",
              "      <td>45</td>\n",
              "      <td>0.45</td>\n",
              "      <td>0.45</td>\n",
              "    </tr>\n",
              "    <tr>\n",
              "      <th>1</th>\n",
              "      <td>B</td>\n",
              "      <td>12</td>\n",
              "      <td>0.12</td>\n",
              "      <td>0.57</td>\n",
              "    </tr>\n",
              "    <tr>\n",
              "      <th>2</th>\n",
              "      <td>C</td>\n",
              "      <td>13</td>\n",
              "      <td>0.13</td>\n",
              "      <td>0.7</td>\n",
              "    </tr>\n",
              "    <tr>\n",
              "      <th>3</th>\n",
              "      <td>D</td>\n",
              "      <td>20</td>\n",
              "      <td>0.2</td>\n",
              "      <td>0.9</td>\n",
              "    </tr>\n",
              "    <tr>\n",
              "      <th>4</th>\n",
              "      <td>E</td>\n",
              "      <td>10</td>\n",
              "      <td>0.1</td>\n",
              "      <td>1</td>\n",
              "    </tr>\n",
              "  </tbody>\n",
              "</table>\n",
              "</div>"
            ],
            "text/plain": [
              "  Chromosome Fitness   PDF   CDF\n",
              "0          A      45  0.45  0.45\n",
              "1          B      12  0.12  0.57\n",
              "2          C      13  0.13   0.7\n",
              "3          D      20   0.2   0.9\n",
              "4          E      10   0.1     1"
            ]
          },
          "metadata": {},
          "execution_count": 8
        }
      ]
    },
    {
      "cell_type": "code",
      "metadata": {
        "colab": {
          "base_uri": "https://localhost:8080/",
          "height": 248
        },
        "id": "3n4TRswxIHW6",
        "outputId": "b0e7a110-0111-464c-c6e8-2050a29ebc4b"
      },
      "source": [
        "plt.pie(df[\"Fitness\"], labels=df[\"Chromosome\"]) #Plot the fitness column\n",
        "plt.show()"
      ],
      "execution_count": null,
      "outputs": [
        {
          "output_type": "display_data",
          "data": {
            "image/png": "[encoded data removed]",
            "text/plain": [
              "<Figure size 432x288 with 1 Axes>"
            ]
          },
          "metadata": {}
        }
      ]
    },
    {
      "cell_type": "code",
      "metadata": {
        "id": "ii3-ev7ma3NE",
        "colab": {
          "base_uri": "https://localhost:8080/",
          "height": 283
        },
        "outputId": "8b789176-9617-457a-be0e-fccf74614cc3"
      },
      "source": [
        "plt.bar(chromosome,fitness)"
      ],
      "execution_count": null,
      "outputs": [
        {
          "output_type": "execute_result",
          "data": {
            "text/plain": [
              "<BarContainer object of 5 artists>"
            ]
          },
          "metadata": {},
          "execution_count": 16
        },
        {
          "output_type": "display_data",
          "data": {
            "image/png": "[encoded data removed]",
            "text/plain": [
              "<Figure size 432x288 with 1 Axes>"
            ]
          },
          "metadata": {
            "needs_background": "light"
          }
        }
      ]
    },
    {
      "cell_type": "code",
      "metadata": {
        "colab": {
          "base_uri": "https://localhost:8080/"
        },
        "id": "8gQxsJ9_IWGk",
        "outputId": "ff49b795-58e1-46a9-b8dd-0b40da115530"
      },
      "source": [
        "r= round(np.random.uniform(0,1),2)\n",
        "print(r)"
      ],
      "execution_count": null,
      "outputs": [
        {
          "output_type": "stream",
          "name": "stdout",
          "text": [
            "0.14\n"
          ]
        }
      ]
    },
    {
      "cell_type": "code",
      "metadata": {
        "colab": {
          "base_uri": "https://localhost:8080/"
        },
        "id": "Jy2toMN_I643",
        "outputId": "49697e8e-0d50-4367-dd53-afa1ef3e0ff9"
      },
      "source": [
        "#Roulette Wheel Algorithm\n",
        "\n",
        "if r< df[\"CDF\"][0]:\n",
        "  print(\"Select \", df[\"Chromosome\"][0])\n",
        "else:\n",
        "  for i in range (1,len(fitness)):\n",
        "    if df[\"CDF\"][i-1] < r <= df[\"CDF\"][i]:\n",
        "      print(\"Select\", df[\"Chromosome\"][i])\n",
        "      break\n"
      ],
      "execution_count": null,
      "outputs": [
        {
          "output_type": "stream",
          "name": "stdout",
          "text": [
            "Select  A\n"
          ]
        }
      ]
    },
    {
      "cell_type": "code",
      "metadata": {
        "id": "1buIG1fUlwiD",
        "colab": {
          "base_uri": "https://localhost:8080/"
        },
        "outputId": "5b94b105-1530-43d1-d1c2-28c392e5f597"
      },
      "source": [
        "#Generate range of random numbers  \n",
        "\n",
        "r= [round(num,2) for num in np.random.uniform(0,1,20)]\n",
        "print(r)"
      ],
      "execution_count": null,
      "outputs": [
        {
          "output_type": "stream",
          "name": "stdout",
          "text": [
            "[0.59, 0.97, 0.79, 0.69, 0.41, 0.22, 0.31, 0.58, 0.67, 0.26, 0.31, 0.23, 0.45, 0.83, 0.13, 0.28, 0.84, 0.34, 0.23, 0.59]\n"
          ]
        }
      ]
    },
    {
      "cell_type": "code",
      "metadata": {
        "colab": {
          "base_uri": "https://localhost:8080/"
        },
        "id": "hHjwDWQYm_vn",
        "outputId": "aeb6155e-636b-43f3-8ece-14da6bb1e10d"
      },
      "source": [
        "#obtain the selection using Roulette Wheel Algorithm for 10 random samples\n",
        "selection=[]\n",
        "for value in r:\n",
        "  if value< df[\"CDF\"][0]:\n",
        "    selection.append(df[\"Chromosome\"][0])\n",
        "  else:\n",
        "    for i in range (1,len(fitness)):\n",
        "      if df[\"CDF\"][i-1] < value <= df[\"CDF\"][i]:\n",
        "        selection.append(df[\"Chromosome\"][i])\n",
        "        break\n",
        "print(selection)\n",
        "print(selection.count(\"A\"))"
      ],
      "execution_count": null,
      "outputs": [
        {
          "output_type": "stream",
          "name": "stdout",
          "text": [
            "['C', 'E', 'D', 'C', 'A', 'A', 'A', 'C', 'C', 'A', 'A', 'A', 'D', 'A', 'A', 'D', 'A', 'A', 'C']\n",
            "10\n"
          ]
        }
      ]
    }
  ]
}